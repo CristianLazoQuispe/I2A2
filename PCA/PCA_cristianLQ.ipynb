{
 "cells": [
  {
   "cell_type": "markdown",
   "metadata": {},
   "source": [
    "<h1><center> Principal Component Analysis </center></h1>\n",
    "<h3><center> Cristian Lazo Quispe </center></h3>"
   ]
  },
  {
   "cell_type": "markdown",
   "metadata": {},
   "source": [
    "---"
   ]
  },
  {
   "cell_type": "markdown",
   "metadata": {},
   "source": [
    "##### In an astronomical observation, researchers used 17 different bands of the spectrum to analyze 4 celestial objects. Using the PCA find out which of the 4 celestial objects does not behave like a star."
   ]
  },
  {
   "cell_type": "markdown",
   "metadata": {},
   "source": [
    "# Import libraries"
   ]
  },
  {
   "cell_type": "code",
   "execution_count": 5,
   "metadata": {},
   "outputs": [],
   "source": [
    "%matplotlib inline\n",
    "from sklearn.preprocessing import StandardScaler\n",
    "from sklearn.decomposition import PCA\n",
    "import seaborn as sns; sns.set()\n",
    "import matplotlib.pyplot as plt\n",
    "import warnings\n",
    "import pandas as pd\n",
    "import numpy as np\n",
    "\n",
    "plt.rcParams['figure.figsize'] = [10,10]\n",
    "warnings.filterwarnings(\"ignore\")\n"
   ]
  },
  {
   "cell_type": "markdown",
   "metadata": {},
   "source": [
    "# Read dataset"
   ]
  },
  {
   "cell_type": "code",
   "execution_count": 6,
   "metadata": {},
   "outputs": [
    {
     "data": {
      "text/html": [
       "<div>\n",
       "<style scoped>\n",
       "    .dataframe tbody tr th:only-of-type {\n",
       "        vertical-align: middle;\n",
       "    }\n",
       "\n",
       "    .dataframe tbody tr th {\n",
       "        vertical-align: top;\n",
       "    }\n",
       "\n",
       "    .dataframe thead th {\n",
       "        text-align: right;\n",
       "    }\n",
       "</style>\n",
       "<table border=\"1\" class=\"dataframe\">\n",
       "  <thead>\n",
       "    <tr style=\"text-align: right;\">\n",
       "      <th></th>\n",
       "      <th>Object 1</th>\n",
       "      <th>Object 2</th>\n",
       "      <th>Object 3</th>\n",
       "      <th>Object 4</th>\n",
       "    </tr>\n",
       "  </thead>\n",
       "  <tbody>\n",
       "    <tr>\n",
       "      <th>Band 1</th>\n",
       "      <td>375</td>\n",
       "      <td>135</td>\n",
       "      <td>458</td>\n",
       "      <td>475</td>\n",
       "    </tr>\n",
       "    <tr>\n",
       "      <th>Band 2</th>\n",
       "      <td>57</td>\n",
       "      <td>47</td>\n",
       "      <td>53</td>\n",
       "      <td>73</td>\n",
       "    </tr>\n",
       "    <tr>\n",
       "      <th>Band 3</th>\n",
       "      <td>245</td>\n",
       "      <td>267</td>\n",
       "      <td>242</td>\n",
       "      <td>227</td>\n",
       "    </tr>\n",
       "    <tr>\n",
       "      <th>Band 4</th>\n",
       "      <td>1472</td>\n",
       "      <td>1494</td>\n",
       "      <td>1462</td>\n",
       "      <td>1582</td>\n",
       "    </tr>\n",
       "    <tr>\n",
       "      <th>Band 5</th>\n",
       "      <td>105</td>\n",
       "      <td>66</td>\n",
       "      <td>103</td>\n",
       "      <td>103</td>\n",
       "    </tr>\n",
       "  </tbody>\n",
       "</table>\n",
       "</div>"
      ],
      "text/plain": [
       "        Object 1  Object 2  Object 3  Object 4\n",
       "Band 1       375       135       458       475\n",
       "Band 2        57        47        53        73\n",
       "Band 3       245       267       242       227\n",
       "Band 4      1472      1494      1462      1582\n",
       "Band 5       105        66       103       103"
      ]
     },
     "execution_count": 6,
     "metadata": {},
     "output_type": "execute_result"
    }
   ],
   "source": [
    "df = pd.read_excel('PCA_exercise 1.xlsx',header=0,index_col=0)\n",
    "df = df[['Object '+str(i) for i in range(1,5)]]\n",
    "#df = df[['Object '+str(i) for i in [1,3,4]]]\n",
    "df.head()"
   ]
  },
  {
   "cell_type": "markdown",
   "metadata": {},
   "source": [
    "# Solution"
   ]
  },
  {
   "cell_type": "markdown",
   "metadata": {},
   "source": [
    "#### My interpretation\n",
    "- My understanding to the problem is that we need to get the Object with less correlation with other Objects, because if the objects behave like a star their values in Bands will have high correlation.\n",
    "- In base of the theory PCA, it express the data with a linear combination of basis vectors, minimizing the redundancy(covariance) and maximizing the variance. \n",
    "    - We can use that redundancy because the value that not has the behave like a start has low linear relationship with the others (min eigvalue)\n",
    "    - The objects that behave like a star are values with high redundacy because they should have high linear relationship\n"
   ]
  },
  {
   "cell_type": "markdown",
   "metadata": {},
   "source": [
    "#### Create pca function\n",
    "\n",
    "- I use the algebra solution using singular value descomposition (SVD) explained in this article:\n",
    "https://www.cc.gatech.edu/~lsong/teaching/CX4240spring16/pca_schlens.pdf"
   ]
  },
  {
   "cell_type": "code",
   "execution_count": 7,
   "metadata": {},
   "outputs": [],
   "source": [
    "class my_pca:\n",
    "    def __init__(self,n_components=None):\n",
    "        self.n_components=n_components\n",
    "    def fit(self,df):\n",
    "        if self.n_components is None:\n",
    "            self.n_components = df.shape[1]\n",
    "        # subtract the mean of each dimension\n",
    "        self.mn = np.mean(df,0)\n",
    "        new_matrix = df - self.mn\n",
    "        # get the covariance matrix\n",
    "        self.covariance_matrix = np.cov(new_matrix.T)#new_matrix.T.dot(new_matrix) / (new_matrix.shape[0]-1)\n",
    "        # get principal components of data\n",
    "        self.eigenvalues,self.eigenvectors= np.linalg.eig(self.covariance_matrix)\n",
    "        # get decrease order\n",
    "        val=(-self.eigenvalues).argsort()\n",
    "        # linear transformation matrix \n",
    "        self.components_ =  self.eigenvectors[...,val].T[:self.n_components]\n",
    "        # eigenvalues ordered\n",
    "        self.explained_variance_ = self.eigenvalues[...,val][:self.n_components]\n",
    "        \n",
    "    def transform(self,df):\n",
    "        new_matrix = df - self.mn\n",
    "        new_dimension_matrix = np.dot(self.components_[:self.n_components],new_matrix.T)\n",
    "        newData = new_dimension_matrix.T\n",
    "        return newData"
   ]
  },
  {
   "cell_type": "markdown",
   "metadata": {},
   "source": [
    "#### Comparate my function with scikit-learn library "
   ]
  },
  {
   "cell_type": "code",
   "execution_count": 8,
   "metadata": {},
   "outputs": [],
   "source": [
    "df_std = StandardScaler().fit_transform(df)"
   ]
  },
  {
   "cell_type": "code",
   "execution_count": 9,
   "metadata": {},
   "outputs": [
    {
     "name": "stdout",
     "output_type": "stream",
     "text": [
      "Points\n",
      "[-0.45556594  0.46623859]\n",
      "Linear transformation matrix\n",
      "[[ 0.50526231  0.49247225  0.50094821  0.50123046]\n",
      " [ 0.27858192 -0.86738491  0.22784545  0.34368879]]\n",
      "eigvalues\n",
      "[4.12556937 0.08206434]\n"
     ]
    }
   ],
   "source": [
    "# sklearn solution\n",
    "pca = PCA(n_components=2)\n",
    "pca.fit(df_std)\n",
    "print('Points')\n",
    "print(pca.transform(df_std)[0])\n",
    "print('Linear transformation matrix')\n",
    "print(pca.components_[0:2])\n",
    "print('eigvalues')\n",
    "print(pca.explained_variance_)\n"
   ]
  },
  {
   "cell_type": "code",
   "execution_count": 10,
   "metadata": {},
   "outputs": [
    {
     "name": "stdout",
     "output_type": "stream",
     "text": [
      "Points\n",
      "[-0.45556594 -0.46623859]\n",
      "Linear transformation matrix\n",
      "[[ 0.50526231  0.49247225  0.50094821  0.50123046]\n",
      " [-0.27858192  0.86738491 -0.22784545 -0.34368879]]\n",
      "eigvalues\n",
      "[4.12556937 0.08206434]\n"
     ]
    }
   ],
   "source": [
    "# MY Solution\n",
    "pca = my_pca(n_components=2)\n",
    "pca.fit(df_std)\n",
    "print('Points')\n",
    "print(pca.transform(df_std)[0])\n",
    "print('Linear transformation matrix')\n",
    "print(pca.components_[0:2])\n",
    "print('eigvalues')\n",
    "print(pca.explained_variance_)\n"
   ]
  },
  {
   "cell_type": "markdown",
   "metadata": {},
   "source": [
    "##### My implementation work well with similar results"
   ]
  },
  {
   "cell_type": "markdown",
   "metadata": {},
   "source": [
    "### Find the celestial object does not have behave like a star"
   ]
  },
  {
   "cell_type": "code",
   "execution_count": 11,
   "metadata": {},
   "outputs": [
    {
     "name": "stdout",
     "output_type": "stream",
     "text": [
      "eigvalues :\n",
      "[4.12556937 0.00416802 0.08206434 0.03819827]\n",
      "Object 2 has minimal correlation\n"
     ]
    }
   ],
   "source": [
    "# MY Solution\n",
    "pca = my_pca()\n",
    "pca.fit(df_std)\n",
    "print('eigvalues :')\n",
    "eigenvalues = pca.eigenvalues\n",
    "print(eigenvalues)\n",
    "print('Object %s has minimal correlation'%(eigenvalues.argmin()+1))"
   ]
  },
  {
   "cell_type": "markdown",
   "metadata": {},
   "source": [
    "#### Like my interpretation said, the object with minimal redundancy (correlation linear with others) is the value that has different behavior with the low eignvalue\n",
    "\n",
    "- This hyphotesis is right because we assume that all features have the same behavior\n",
    "- Object 2 does not behave like a star"
   ]
  },
  {
   "cell_type": "markdown",
   "metadata": {},
   "source": [
    "# Plot correlation matrix to prove the solution"
   ]
  },
  {
   "cell_type": "code",
   "execution_count": 23,
   "metadata": {},
   "outputs": [
    {
     "data": {
      "image/png": "[encoded data removed]",
      "text/plain": [
       "<Figure size 720x720 with 2 Axes>"
      ]
     },
     "metadata": {},
     "output_type": "display_data"
    }
   ],
   "source": [
    "corrMatrix = np.corrcoef(df_std.T)\n",
    "names = ['object'+str(i+1) for i in range(0,4) ]\n",
    "sns.heatmap(corrMatrix, vmax=1, square=True, cmap=\"YlGnBu\", linewidths=0.1, \n",
    "            annot=True, annot_kws={\"fontsize\":15}, xticklabels=names, yticklabels=names)  \n",
    "\n",
    "plt.show()"
   ]
  },
  {
   "cell_type": "markdown",
   "metadata": {},
   "source": [
    "    - As you can appreciate the Object 2 has the minimal correlation with others values\n"
   ]
  },
  {
   "cell_type": "markdown",
   "metadata": {},
   "source": [
    "## Plot the variance explained ratios of the eigenvalues. "
   ]
  },
  {
   "cell_type": "code",
   "execution_count": 26,
   "metadata": {},
   "outputs": [
    {
     "data": {
      "image/png": "[encoded data removed]",
      "text/plain": [
       "<Figure size 720x720 with 1 Axes>"
      ]
     },
     "metadata": {},
     "output_type": "display_data"
    }
   ],
   "source": [
    "# calculate cumulative sum of explained variances\n",
    "\n",
    "tot = sum(eigenvalues)\n",
    "var_exp = [(i / tot) for i in sorted(eigenvalues, reverse=True)]\n",
    "cum_var_exp = np.cumsum(var_exp)\n",
    "val=(-eigenvalues).argsort()\n",
    "names = ['Object '+str(i+1) for i in val ]\n",
    "\n",
    "# plot explained variances\n",
    "plt.bar(names, var_exp, alpha=0.5,\n",
    "        align='center', label='individual explained variance')\n",
    "plt.step(names, cum_var_exp, where='mid',\n",
    "         label='cumulative explained variance')\n",
    "plt.ylabel('Explained variance ratio', fontsize=20)\n",
    "plt.xlabel('Principal component index', fontsize=20)\n",
    "plt.legend(loc='best',prop={'size': 10})\n",
    "plt.show()"
   ]
  },
  {
   "cell_type": "markdown",
   "metadata": {},
   "source": [
    "The resulting plot indicates that the first principal component alone accounts for approximately 90% of the variance. Also, we can see that the first three principal components combined explain almost 100% of the variance in the dataset."
   ]
  },
  {
   "cell_type": "markdown",
   "metadata": {},
   "source": [
    "# Answer"
   ]
  },
  {
   "cell_type": "markdown",
   "metadata": {},
   "source": [
    "###  Object 2 does not behave like a star"
   ]
  },
  {
   "cell_type": "code",
   "execution_count": null,
   "metadata": {},
   "outputs": [],
   "source": []
  }
 ],
 "metadata": {
  "kernelspec": {
   "display_name": "Python 3",
   "language": "python",
   "name": "python3"
  },
  "language_info": {
   "codemirror_mode": {
    "name": "ipython",
    "version": 3
   },
   "file_extension": ".py",
   "mimetype": "text/x-python",
   "name": "python",
   "nbconvert_exporter": "python",
   "pygments_lexer": "ipython3",
   "version": "3.6.8"
  }
 },
 "nbformat": 4,
 "nbformat_minor": 2
}
